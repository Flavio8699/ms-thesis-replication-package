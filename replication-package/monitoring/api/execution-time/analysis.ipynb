{
 "cells": [
  {
   "cell_type": "code",
   "execution_count": 1,
   "metadata": {},
   "outputs": [
    {
     "data": {
      "text/html": [
       "<div>\n",
       "<style scoped>\n",
       "    .dataframe tbody tr th:only-of-type {\n",
       "        vertical-align: middle;\n",
       "    }\n",
       "\n",
       "    .dataframe tbody tr th {\n",
       "        vertical-align: top;\n",
       "    }\n",
       "\n",
       "    .dataframe thead th {\n",
       "        text-align: right;\n",
       "    }\n",
       "</style>\n",
       "<table border=\"1\" class=\"dataframe\">\n",
       "  <thead>\n",
       "    <tr style=\"text-align: right;\">\n",
       "      <th></th>\n",
       "      <th>source</th>\n",
       "      <th>start</th>\n",
       "      <th>end</th>\n",
       "    </tr>\n",
       "  </thead>\n",
       "  <tbody>\n",
       "    <tr>\n",
       "      <th>0</th>\n",
       "      <td>10.186.2.11</td>\n",
       "      <td>1.715627e+09</td>\n",
       "      <td>1.715627e+09</td>\n",
       "    </tr>\n",
       "    <tr>\n",
       "      <th>1</th>\n",
       "      <td>10.186.2.11</td>\n",
       "      <td>1.715628e+09</td>\n",
       "      <td>1.715628e+09</td>\n",
       "    </tr>\n",
       "    <tr>\n",
       "      <th>2</th>\n",
       "      <td>10.186.2.11</td>\n",
       "      <td>1.715629e+09</td>\n",
       "      <td>1.715629e+09</td>\n",
       "    </tr>\n",
       "    <tr>\n",
       "      <th>3</th>\n",
       "      <td>10.186.2.11</td>\n",
       "      <td>1.715630e+09</td>\n",
       "      <td>1.715630e+09</td>\n",
       "    </tr>\n",
       "    <tr>\n",
       "      <th>4</th>\n",
       "      <td>10.186.2.11</td>\n",
       "      <td>1.715631e+09</td>\n",
       "      <td>1.715631e+09</td>\n",
       "    </tr>\n",
       "    <tr>\n",
       "      <th>...</th>\n",
       "      <td>...</td>\n",
       "      <td>...</td>\n",
       "      <td>...</td>\n",
       "    </tr>\n",
       "    <tr>\n",
       "      <th>195</th>\n",
       "      <td>10.186.2.16</td>\n",
       "      <td>1.715911e+09</td>\n",
       "      <td>1.715911e+09</td>\n",
       "    </tr>\n",
       "    <tr>\n",
       "      <th>196</th>\n",
       "      <td>10.186.2.16</td>\n",
       "      <td>1.715912e+09</td>\n",
       "      <td>1.715912e+09</td>\n",
       "    </tr>\n",
       "    <tr>\n",
       "      <th>197</th>\n",
       "      <td>10.186.2.16</td>\n",
       "      <td>1.715913e+09</td>\n",
       "      <td>1.715913e+09</td>\n",
       "    </tr>\n",
       "    <tr>\n",
       "      <th>198</th>\n",
       "      <td>10.186.2.16</td>\n",
       "      <td>1.715913e+09</td>\n",
       "      <td>1.715913e+09</td>\n",
       "    </tr>\n",
       "    <tr>\n",
       "      <th>199</th>\n",
       "      <td>10.186.2.16</td>\n",
       "      <td>1.715914e+09</td>\n",
       "      <td>1.715914e+09</td>\n",
       "    </tr>\n",
       "  </tbody>\n",
       "</table>\n",
       "<p>200 rows × 3 columns</p>\n",
       "</div>"
      ],
      "text/plain": [
       "          source         start           end\n",
       "0    10.186.2.11  1.715627e+09  1.715627e+09\n",
       "1    10.186.2.11  1.715628e+09  1.715628e+09\n",
       "2    10.186.2.11  1.715629e+09  1.715629e+09\n",
       "3    10.186.2.11  1.715630e+09  1.715630e+09\n",
       "4    10.186.2.11  1.715631e+09  1.715631e+09\n",
       "..           ...           ...           ...\n",
       "195  10.186.2.16  1.715911e+09  1.715911e+09\n",
       "196  10.186.2.16  1.715912e+09  1.715912e+09\n",
       "197  10.186.2.16  1.715913e+09  1.715913e+09\n",
       "198  10.186.2.16  1.715913e+09  1.715913e+09\n",
       "199  10.186.2.16  1.715914e+09  1.715914e+09\n",
       "\n",
       "[200 rows x 3 columns]"
      ]
     },
     "execution_count": 1,
     "metadata": {},
     "output_type": "execute_result"
    }
   ],
   "source": [
    "import pandas as pd\n",
    "\n",
    "df = pd.read_csv('data.csv', names=['source', 'start', 'end'])\n",
    "df"
   ]
  },
  {
   "cell_type": "code",
   "execution_count": 2,
   "metadata": {},
   "outputs": [
    {
     "data": {
      "text/html": [
       "<div>\n",
       "<style scoped>\n",
       "    .dataframe tbody tr th:only-of-type {\n",
       "        vertical-align: middle;\n",
       "    }\n",
       "\n",
       "    .dataframe tbody tr th {\n",
       "        vertical-align: top;\n",
       "    }\n",
       "\n",
       "    .dataframe thead th {\n",
       "        text-align: right;\n",
       "    }\n",
       "</style>\n",
       "<table border=\"1\" class=\"dataframe\">\n",
       "  <thead>\n",
       "    <tr style=\"text-align: right;\">\n",
       "      <th></th>\n",
       "      <th>source</th>\n",
       "      <th>start</th>\n",
       "      <th>end</th>\n",
       "      <th>delta</th>\n",
       "    </tr>\n",
       "  </thead>\n",
       "  <tbody>\n",
       "    <tr>\n",
       "      <th>0</th>\n",
       "      <td>10.186.2.11</td>\n",
       "      <td>1.715627e+09</td>\n",
       "      <td>1.715627e+09</td>\n",
       "      <td>1.017344</td>\n",
       "    </tr>\n",
       "    <tr>\n",
       "      <th>1</th>\n",
       "      <td>10.186.2.11</td>\n",
       "      <td>1.715628e+09</td>\n",
       "      <td>1.715628e+09</td>\n",
       "      <td>0.789153</td>\n",
       "    </tr>\n",
       "    <tr>\n",
       "      <th>2</th>\n",
       "      <td>10.186.2.11</td>\n",
       "      <td>1.715629e+09</td>\n",
       "      <td>1.715629e+09</td>\n",
       "      <td>0.612667</td>\n",
       "    </tr>\n",
       "    <tr>\n",
       "      <th>3</th>\n",
       "      <td>10.186.2.11</td>\n",
       "      <td>1.715630e+09</td>\n",
       "      <td>1.715630e+09</td>\n",
       "      <td>0.520013</td>\n",
       "    </tr>\n",
       "    <tr>\n",
       "      <th>4</th>\n",
       "      <td>10.186.2.11</td>\n",
       "      <td>1.715631e+09</td>\n",
       "      <td>1.715631e+09</td>\n",
       "      <td>1.368494</td>\n",
       "    </tr>\n",
       "    <tr>\n",
       "      <th>...</th>\n",
       "      <td>...</td>\n",
       "      <td>...</td>\n",
       "      <td>...</td>\n",
       "      <td>...</td>\n",
       "    </tr>\n",
       "    <tr>\n",
       "      <th>195</th>\n",
       "      <td>10.186.2.16</td>\n",
       "      <td>1.715911e+09</td>\n",
       "      <td>1.715911e+09</td>\n",
       "      <td>2.139779</td>\n",
       "    </tr>\n",
       "    <tr>\n",
       "      <th>196</th>\n",
       "      <td>10.186.2.16</td>\n",
       "      <td>1.715912e+09</td>\n",
       "      <td>1.715912e+09</td>\n",
       "      <td>2.057363</td>\n",
       "    </tr>\n",
       "    <tr>\n",
       "      <th>197</th>\n",
       "      <td>10.186.2.16</td>\n",
       "      <td>1.715913e+09</td>\n",
       "      <td>1.715913e+09</td>\n",
       "      <td>2.084494</td>\n",
       "    </tr>\n",
       "    <tr>\n",
       "      <th>198</th>\n",
       "      <td>10.186.2.16</td>\n",
       "      <td>1.715913e+09</td>\n",
       "      <td>1.715913e+09</td>\n",
       "      <td>1.670497</td>\n",
       "    </tr>\n",
       "    <tr>\n",
       "      <th>199</th>\n",
       "      <td>10.186.2.16</td>\n",
       "      <td>1.715914e+09</td>\n",
       "      <td>1.715914e+09</td>\n",
       "      <td>1.490362</td>\n",
       "    </tr>\n",
       "  </tbody>\n",
       "</table>\n",
       "<p>200 rows × 4 columns</p>\n",
       "</div>"
      ],
      "text/plain": [
       "          source         start           end     delta\n",
       "0    10.186.2.11  1.715627e+09  1.715627e+09  1.017344\n",
       "1    10.186.2.11  1.715628e+09  1.715628e+09  0.789153\n",
       "2    10.186.2.11  1.715629e+09  1.715629e+09  0.612667\n",
       "3    10.186.2.11  1.715630e+09  1.715630e+09  0.520013\n",
       "4    10.186.2.11  1.715631e+09  1.715631e+09  1.368494\n",
       "..           ...           ...           ...       ...\n",
       "195  10.186.2.16  1.715911e+09  1.715911e+09  2.139779\n",
       "196  10.186.2.16  1.715912e+09  1.715912e+09  2.057363\n",
       "197  10.186.2.16  1.715913e+09  1.715913e+09  2.084494\n",
       "198  10.186.2.16  1.715913e+09  1.715913e+09  1.670497\n",
       "199  10.186.2.16  1.715914e+09  1.715914e+09  1.490362\n",
       "\n",
       "[200 rows x 4 columns]"
      ]
     },
     "execution_count": 2,
     "metadata": {},
     "output_type": "execute_result"
    }
   ],
   "source": [
    "df['delta'] = df['end'] - df['start']\n",
    "df"
   ]
  },
  {
   "cell_type": "markdown",
   "metadata": {},
   "source": [
    "Total"
   ]
  },
  {
   "cell_type": "code",
   "execution_count": 3,
   "metadata": {},
   "outputs": [
    {
     "name": "stdout",
     "output_type": "stream",
     "text": [
      "200\n",
      "Std 0.49386410432648803\n",
      "Mean 1.3850306868553162\n",
      "Max 2.7921299934387207\n"
     ]
    }
   ],
   "source": [
    "print(len(df))\n",
    "print(\"Std\", df['delta'].std())\n",
    "print(\"Mean\", df['delta'].mean())\n",
    "print(\"Max\", df['delta'].max())"
   ]
  },
  {
   "cell_type": "markdown",
   "metadata": {},
   "source": [
    "Computer 1"
   ]
  },
  {
   "cell_type": "code",
   "execution_count": 4,
   "metadata": {},
   "outputs": [
    {
     "name": "stdout",
     "output_type": "stream",
     "text": [
      "100\n",
      "Std 0.31170157270230014\n",
      "Mean 1.0134820771217345\n",
      "Max 1.7167174816131592\n"
     ]
    }
   ],
   "source": [
    "print(len(df[df['source'] == '10.186.2.11']))\n",
    "print(\"Std\", df[df['source'] == '10.186.2.11']['delta'].std())\n",
    "print(\"Mean\", df[df['source'] == '10.186.2.11']['delta'].mean())\n",
    "print(\"Max\", df[df['source'] == '10.186.2.11']['delta'].max())"
   ]
  },
  {
   "cell_type": "markdown",
   "metadata": {},
   "source": [
    "Computer 2"
   ]
  },
  {
   "cell_type": "code",
   "execution_count": 5,
   "metadata": {},
   "outputs": [
    {
     "name": "stdout",
     "output_type": "stream",
     "text": [
      "100\n",
      "Std 0.33796996315977196\n",
      "Mean 1.7565792965888978\n",
      "Max 2.7921299934387207\n"
     ]
    }
   ],
   "source": [
    "print(len(df[df['source'] == '10.186.2.16']))\n",
    "print(\"Std\", df[df['source'] == '10.186.2.16']['delta'].std())\n",
    "print(\"Mean\", df[df['source'] == '10.186.2.16']['delta'].mean())\n",
    "print(\"Max\", df[df['source'] == '10.186.2.16']['delta'].max())"
   ]
  }
 ],
 "metadata": {
  "kernelspec": {
   "display_name": "Python 3",
   "language": "python",
   "name": "python3"
  },
  "language_info": {
   "codemirror_mode": {
    "name": "ipython",
    "version": 3
   },
   "file_extension": ".py",
   "mimetype": "text/x-python",
   "name": "python",
   "nbconvert_exporter": "python",
   "pygments_lexer": "ipython3",
   "version": "3.9.2"
  }
 },
 "nbformat": 4,
 "nbformat_minor": 2
}
